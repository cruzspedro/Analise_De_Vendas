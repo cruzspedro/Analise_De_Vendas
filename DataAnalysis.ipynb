{
 "cells": [
  {
   "cell_type": "code",
   "execution_count": 2,
   "metadata": {
    "collapsed": true
   },
   "outputs": [],
   "source": [
    "import pandas as pd"
   ]
  },
  {
   "cell_type": "code",
   "execution_count": 3,
   "outputs": [],
   "source": [
    "# Collecting the database\n",
    "\n",
    "# Change the file path if going to test!!\n",
    "df_case = pd.read_excel(\"files/Data_base_Vendas(1).xlsx\", sheet_name=\"Database\")"
   ],
   "metadata": {
    "collapsed": false
   }
  },
  {
   "cell_type": "markdown",
   "source": [
    "Treating the data and collecting some information"
   ],
   "metadata": {
    "collapsed": false
   }
  },
  {
   "cell_type": "code",
   "execution_count": 4,
   "outputs": [],
   "source": [
    "top_selling_by_qty = df_case.set_index(\"Customer\")[['Material Name', 'Delivered qty. in KG']].groupby(['Material Name']).sum()"
   ],
   "metadata": {
    "collapsed": false
   }
  },
  {
   "cell_type": "code",
   "execution_count": 5,
   "outputs": [],
   "source": [
    "top_10_selling_by_qty = top_selling_by_qty.sort_values(by=\"Delivered qty. in KG\", ascending=False).head(10)"
   ],
   "metadata": {
    "collapsed": false
   }
  },
  {
   "cell_type": "code",
   "execution_count": 6,
   "outputs": [],
   "source": [
    "top_selling_by_revenue = df_case.set_index(\"Customer\")[['Material Name',\"Revenue USD\"]].groupby(['Material Name']).sum()"
   ],
   "metadata": {
    "collapsed": false
   }
  },
  {
   "cell_type": "code",
   "execution_count": 7,
   "outputs": [],
   "source": [
    "top_10_selling_by_revenue = top_selling_by_revenue.sort_values(by=\"Revenue USD\", ascending=False).head(10)"
   ],
   "metadata": {
    "collapsed": false
   }
  },
  {
   "cell_type": "code",
   "execution_count": 8,
   "outputs": [],
   "source": [
    "highest_plants = df_case[[\"Plant\", \"Delivered qty. in KG\"]].groupby(\"Plant\").sum()"
   ],
   "metadata": {
    "collapsed": false
   }
  },
  {
   "cell_type": "code",
   "execution_count": 9,
   "outputs": [],
   "source": [
    "highest_plants.sort_values(by=\"Delivered qty. in KG\", ascending=False, inplace=True)"
   ],
   "metadata": {
    "collapsed": false
   }
  },
  {
   "cell_type": "code",
   "execution_count": 10,
   "outputs": [],
   "source": [
    "biggest_buyers = df_case[[\"Customer\", \"Revenue USD\"]].groupby(by=\"Customer\").sum()\n",
    "biggest_buyers.sort_values(by=\"Revenue USD\", ascending=False, inplace=True)"
   ],
   "metadata": {
    "collapsed": false
   }
  },
  {
   "cell_type": "code",
   "execution_count": 11,
   "outputs": [],
   "source": [
    "top_10_biggest_buyers = biggest_buyers.head(10)"
   ],
   "metadata": {
    "collapsed": false
   }
  },
  {
   "cell_type": "code",
   "execution_count": 12,
   "outputs": [],
   "source": [
    "df_case['New actual date'] = pd.to_datetime(df_case['Actual delivery date'])"
   ],
   "metadata": {
    "collapsed": false
   }
  },
  {
   "cell_type": "code",
   "execution_count": 13,
   "outputs": [],
   "source": [
    "df_case['New Requested date'] = pd.to_datetime(df_case['Requested delivery date'], errors='coerce')"
   ],
   "metadata": {
    "collapsed": false
   }
  },
  {
   "cell_type": "code",
   "execution_count": 14,
   "outputs": [],
   "source": [
    "df_case['Days to deliver'] = (df_case['New actual date'] - df_case['New Requested date']).dt.days"
   ],
   "metadata": {
    "collapsed": false
   }
  },
  {
   "cell_type": "code",
   "execution_count": 15,
   "outputs": [],
   "source": [
    "mean_days_to_deliver = df_case['Days to deliver'].mean()"
   ],
   "metadata": {
    "collapsed": false
   }
  },
  {
   "cell_type": "code",
   "execution_count": 16,
   "outputs": [],
   "source": [
    "reason_series = df_case['Reason for delay']\n",
    "reason_series = reason_series.mask(reason_series == 'OnTime', other=1)\n",
    "reason_series = reason_series.where(reason_series == 1, other=0)"
   ],
   "metadata": {
    "collapsed": false
   }
  },
  {
   "cell_type": "code",
   "execution_count": 17,
   "outputs": [],
   "source": [
    "OnTime_rate = reason_series.sum()*100/93405"
   ],
   "metadata": {
    "collapsed": false
   }
  },
  {
   "cell_type": "code",
   "execution_count": 18,
   "outputs": [
    {
     "data": {
      "text/plain": "90.213585996467"
     },
     "execution_count": 18,
     "metadata": {},
     "output_type": "execute_result"
    }
   ],
   "source": [
    "OnTime_rate"
   ],
   "metadata": {
    "collapsed": false
   }
  },
  {
   "cell_type": "markdown",
   "source": [
    "Writing the data into the excel file"
   ],
   "metadata": {
    "collapsed": false
   }
  },
  {
   "cell_type": "code",
   "execution_count": 19,
   "outputs": [],
   "source": [
    "# Change the file path to test!!\n",
    "\n",
    "with pd.ExcelWriter(\n",
    "    \"files/Database_Vendas.xlsx\",\n",
    "    mode=\"a\",\n",
    "    engine=\"openpyxl\",\n",
    "    if_sheet_exists=\"replace\",\n",
    ") as writer:\n",
    "    top_10_selling_by_qty.to_excel(writer, sheet_name=\"top_10_selling_by_qty\")\n",
    "    top_10_selling_by_revenue.to_excel(writer, sheet_name=\"top_10_selling_by_revenue\")\n",
    "    highest_plants.to_excel(writer, sheet_name=\"highest_plants\")\n",
    "    top_10_biggest_buyers.to_excel(writer, sheet_name=\"top_10_biggest_buyers\")"
   ],
   "metadata": {
    "collapsed": false
   }
  },
  {
   "cell_type": "markdown",
   "source": [
    "Some more analysis"
   ],
   "metadata": {
    "collapsed": false
   }
  },
  {
   "cell_type": "code",
   "execution_count": 20,
   "outputs": [],
   "source": [
    "def participation(series):\n",
    "    dic = {'total': 0}\n",
    "    for key, value in series.items():\n",
    "        dic[key] = dic.get(key, 0) + value\n",
    "        dic['total']+=value\n",
    "\n",
    "    for key in dic.keys():\n",
    "        if key == 'total':\n",
    "            pass\n",
    "        else:\n",
    "            dic[key] = dic[key]*100/dic['total']\n",
    "    return dic"
   ],
   "metadata": {
    "collapsed": false
   }
  },
  {
   "cell_type": "code",
   "execution_count": 21,
   "outputs": [],
   "source": [
    "#Participation by country\n",
    "country_series = df_case.copy(deep=True).set_index('Country')\n",
    "country_series = country_series['Revenue USD']\n",
    "participation_dic = participation(country_series)\n",
    "participation_df = pd.DataFrame.from_dict(participation_dic, orient='index')\n",
    "\n",
    "#Participation by Division\n",
    "division_series = df_case.copy(deep=True).set_index('Division')\n",
    "division_series = division_series['Revenue USD']\n",
    "division_dic = participation(division_series)"
   ],
   "metadata": {
    "collapsed": false
   }
  },
  {
   "cell_type": "markdown",
   "source": [
    "Writing it into the excel file - again..."
   ],
   "metadata": {
    "collapsed": false
   }
  },
  {
   "cell_type": "code",
   "execution_count": 22,
   "outputs": [],
   "source": [
    "# Change the file path to test!!\n",
    "\n",
    "with pd.ExcelWriter(\n",
    "    \"files/Database_Vendas.xlsx\",\n",
    "    mode=\"a\",\n",
    "    engine=\"openpyxl\",\n",
    "    if_sheet_exists=\"replace\",\n",
    ") as writer:\n",
    "    participation_df.to_excel(writer, sheet_name=\"country_participation\")"
   ],
   "metadata": {
    "collapsed": false
   }
  },
  {
   "cell_type": "code",
   "execution_count": null,
   "outputs": [],
   "source": [],
   "metadata": {
    "collapsed": false
   }
  }
 ],
 "metadata": {
  "kernelspec": {
   "display_name": "Python 3",
   "language": "python",
   "name": "python3"
  },
  "language_info": {
   "codemirror_mode": {
    "name": "ipython",
    "version": 2
   },
   "file_extension": ".py",
   "mimetype": "text/x-python",
   "name": "python",
   "nbconvert_exporter": "python",
   "pygments_lexer": "ipython2",
   "version": "2.7.6"
  }
 },
 "nbformat": 4,
 "nbformat_minor": 0
}
